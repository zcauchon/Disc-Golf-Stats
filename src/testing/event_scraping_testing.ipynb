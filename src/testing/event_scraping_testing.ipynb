{
 "cells": [
  {
   "cell_type": "code",
   "execution_count": 3,
   "metadata": {},
   "outputs": [],
   "source": [
    "from bs4 import BeautifulSoup\n",
    "from requests import get\n",
    "import pandas as pd"
   ]
  },
  {
   "cell_type": "code",
   "execution_count": 4,
   "metadata": {},
   "outputs": [],
   "source": [
    "url = \"https://www.pdga.com/tour/event/87634\"\n",
    "page = get(url)\n",
    "event_id = url.split(\"/\")[-1]\n",
    "soup = BeautifulSoup(page.content, \"html.parser\")"
   ]
  },
  {
   "cell_type": "code",
   "execution_count": null,
   "metadata": {},
   "outputs": [
    {
     "name": "stdout",
     "output_type": "stream",
     "text": [
      "Event complete; official ratings processed.\n"
     ]
    },
    {
     "ename": "SyntaxError",
     "evalue": "'return' outside function (3624491761.py, line 14)",
     "output_type": "error",
     "traceback": [
      "\u001b[1;36m  Cell \u001b[1;32mIn[5], line 14\u001b[1;36m\u001b[0m\n\u001b[1;33m    return\u001b[0m\n\u001b[1;37m    ^\u001b[0m\n\u001b[1;31mSyntaxError\u001b[0m\u001b[1;31m:\u001b[0m 'return' outside function\n"
     ]
    }
   ],
   "source": [
    "# first lets get tourny level info\n",
    "event_name = soup.find('h1', attrs={'id':\"page-title\"}).text.replace('/','_')\n",
    "event_info = soup.find_all(\"div\", attrs={\"class\":\"pane-tournament-event-info\"})[0]\n",
    "event_date = event_info.find('li', attrs={'class':\"tournament-date\"}).text.split(':')[1].strip()\n",
    "event_location = event_info.find('li', attrs={'class':\"tournament-location\"}).text.split(\":\")[1].strip()\n",
    "event_city, event_state, event_country = event_location.split(\",\")\n",
    "event_director = event_info.find('li', attrs={'class': \"tournament-director\"}).text.split(\":\")[1].strip()\n",
    "event_type = event_info.find(\"h4\").text\n",
    "event_view = soup.find_all(\"div\", attrs={\"class\":\"pane-tournament-event-view\"})[0]\n",
    "event_status = event_view.find(\"td\", attrs={\"class\":\"status\"}).text\n",
    "print(event_status)\n",
    "# if event_status != \"Event complete; official ratings processed\":\n",
    "#     # event not finalized, dont gather data\n",
    "#     return 0\n",
    "event_player_count = event_view.find(\"td\", attrs={\"class\":\"players\"}).text\n",
    "event_purse = event_view.find(\"td\", attrs={\"class\":\"purse\"}).text"
   ]
  },
  {
   "cell_type": "code",
   "execution_count": 72,
   "metadata": {},
   "outputs": [],
   "source": [
    "records = []"
   ]
  },
  {
   "cell_type": "code",
   "execution_count": null,
   "metadata": {},
   "outputs": [],
   "source": [
    "#find each of the division results\n",
    "divisions = soup.find_all('details')\n",
    "for division in divisions:\n",
    "    # each division can play at a different location/layout\n",
    "    div_id = division.find(\"h3\")[\"id\"]\n",
    "    rounds = division.find_all(\"th\", attrs={\"class\":\"round\"})\n",
    "    for round in rounds:\n",
    "        # each round can be played at a different location/layout\n",
    "        round_id = round.text.strip(\"Rd\")\n",
    "        round_info = division.find(\"div\", attrs={\"id\":f\"layout-details-{event_id}-{div_id}-round-{round_id}\"}).text\n",
    "        round_course = round_info.split(\";\")[0].split(\"-\")[0].strip()\n",
    "        round_layout = round_info.split(\";\")[0].split(\"-\")[1].strip()\n",
    "        round_holes = round_info.split(\";\")[1].split()[0].strip()\n",
    "        round_par = round_info.split(\";\")[2].split()[1].strip()\n",
    "        round_dist = round_info.split(\";\")[3].strip()\n",
    "        # get each players score for this round\n",
    "        players = division.find_all(\"tr\")\n",
    "        for player in players:\n",
    "            if \"th\" in player.contents[0].name:\n",
    "                continue\n",
    "            player_points = player.find(\"td\", attrs={\"class\":\"points\"}).text\n",
    "            player_pdga = player.find(\"td\", attrs={\"class\":\"pdga-number\"}).text\n",
    "            player_rating = player.find(\"td\", attrs={\"class\":\"player-rating\"}).text\n",
    "            player_round_score = player.find_all(\"td\", attrs={\"class\":\"round\"})[int(round_id)-1].text\n",
    "            player_round_rating = player.find_all(\"td\", attrs={\"class\":\"round-rating\"})[int(round_id)-1].text\n",
    "            records.append([\n",
    "                event_name,\n",
    "                event_date,\n",
    "                event_city,\n",
    "                event_state,\n",
    "                event_country,\n",
    "                event_director,\n",
    "                event_type,\n",
    "                event_player_count,\n",
    "                event_purse,\n",
    "                div_id,\n",
    "                round_id,\n",
    "                round_course,\n",
    "                round_layout,\n",
    "                round_holes,\n",
    "                round_par,\n",
    "                round_dist,\n",
    "                player_pdga,\n",
    "                player_points,\n",
    "                player_rating,\n",
    "                player_round_score,\n",
    "                player_round_rating\n",
    "            ])"
   ]
  },
  {
   "cell_type": "code",
   "execution_count": null,
   "metadata": {},
   "outputs": [],
   "source": [
    "df = pd.DataFrame(columns=[\n",
    "    \"event_name\",\n",
    "    \"event_date\",\n",
    "    \"event_city\",\n",
    "    \"event_state\",\n",
    "    \"event_country\",\n",
    "    \"event_director\",\n",
    "    \"event_type\",\n",
    "    \"event_player_count\",\n",
    "    \"event_purse\",\n",
    "    \"event_division\",\n",
    "    \"round_number\",\n",
    "    \"round_course\",\n",
    "    \"round_layout\",\n",
    "    \"layout_holes\",\n",
    "    \"layout_par\",\n",
    "    \"layout_distance\",\n",
    "    \"player_pdga\",\n",
    "    \"player_earned_points\",\n",
    "    \"player_rating\",\n",
    "    \"player_round_score\",\n",
    "    \"player_round_rating\"\n",
    "], data=records)\n",
    "df"
   ]
  },
  {
   "cell_type": "code",
   "execution_count": 79,
   "metadata": {},
   "outputs": [
    {
     "name": "stdout",
     "output_type": "stream",
     "text": [
      "Covered Bridge Park\n"
     ]
    }
   ],
   "source": [
    "for course, course_df in df.groupby(\"round_course\"):\n",
    "    print(course)"
   ]
  }
 ],
 "metadata": {
  "kernelspec": {
   "display_name": "pdge_ratings",
   "language": "python",
   "name": "python3"
  },
  "language_info": {
   "codemirror_mode": {
    "name": "ipython",
    "version": 3
   },
   "file_extension": ".py",
   "mimetype": "text/x-python",
   "name": "python",
   "nbconvert_exporter": "python",
   "pygments_lexer": "ipython3",
   "version": "3.13.0"
  }
 },
 "nbformat": 4,
 "nbformat_minor": 2
}
